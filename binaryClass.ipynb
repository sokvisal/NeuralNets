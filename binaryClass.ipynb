{
 "cells": [
  {
   "cell_type": "code",
   "execution_count": 37,
   "id": "85a31636",
   "metadata": {
    "scrolled": false
   },
   "outputs": [],
   "source": [
    "import tensorflow as tf\n",
    "import matplotlib.pyplot as plt\n",
    "import numpy as np\n",
    "\n",
    "# retrieve random images of handwritten numbers from MNIST\n",
    "(x_train, y_train), (x_test, y_test) = tf.keras.datasets.mnist.load_data(path=\"mnist.npz\")\n",
    "\n",
    "# use the first 500 images \n",
    "m = 500\n",
    "x_train = x_train[:m]\n",
    "y_train = y_train[:m]\n",
    "x_test = x_test[:m]\n",
    "y_test = y_test[:m]\n",
    "\n",
    "# since the neural network is a binary classifier, need to set all non 8s as zeros and all 8s as one \n",
    "y_train[y_train!=8] = 0\n",
    "y_train[y_train==8] = 1\n",
    "y_test[y_test!=8] = 0\n",
    "y_test[y_test==8] = 1\n",
    "\n",
    "# reshape the training data\n",
    "x_train = x_train.reshape( (m, 28**2) )\n",
    "x_train = np.swapaxes(x_train,0,1)\n",
    "y_train = y_train[np.newaxis, :]\n",
    "\n",
    "x_test = x_test.reshape( (m, 28**2) )\n",
    "x_test = np.swapaxes(x_test,0,1)\n",
    "y_test = y_test[np.newaxis, :]\n"
   ]
  },
  {
   "cell_type": "markdown",
   "id": "faa8bf7b",
   "metadata": {},
   "source": [
    "Since the neural network is currently only able to do binary classification, the model is trained to detect the number 8 in images. An example of an image of 8 from the MNIST database is shown below."
   ]
  },
  {
   "cell_type": "code",
   "execution_count": 30,
   "id": "1065848b",
   "metadata": {},
   "outputs": [
    {
     "data": {
      "image/png": "[encoded data removed]",
      "text/plain": [
       "<Figure size 432x288 with 1 Axes>"
      ]
     },
     "metadata": {
      "needs_background": "light"
     },
     "output_type": "display_data"
    }
   ],
   "source": [
    "# example of a handwritten 8\n",
    "plt.imshow(x_train[:,17].reshape(28,28))\n",
    "plt.show()"
   ]
  },
  {
   "cell_type": "code",
   "execution_count": 40,
   "id": "f492ea03",
   "metadata": {},
   "outputs": [
    {
     "name": "stderr",
     "output_type": "stream",
     "text": [
      "  0%|          | 39/20000 [00:00<00:51, 388.33it/s]"
     ]
    },
    {
     "name": "stdout",
     "output_type": "stream",
     "text": [
      "The autoreload extension is already loaded. To reload it, use:\n",
      "  %reload_ext autoreload\n",
      "learning rate = 0.005\n",
      "number of iterations = 20000\n"
     ]
    },
    {
     "name": "stderr",
     "output_type": "stream",
     "text": [
      "100%|██████████| 20000/20000 [00:38<00:00, 514.88it/s]"
     ]
    },
    {
     "name": "stdout",
     "output_type": "stream",
     "text": [
      "Training Accuracy:  1.0\n",
      "Testing Accuracy:  0.936\n"
     ]
    },
    {
     "name": "stderr",
     "output_type": "stream",
     "text": [
      "\n"
     ]
    }
   ],
   "source": [
    "%load_ext autoreload\n",
    "%autoreload 2\n",
    "from dnn import BinaryModel\n",
    "\n",
    "# note that the model includes dropout as a regularization, where keep_prob=0.75 implies that a quarter of the nodes\n",
    "# are dropped out for each iteration\n",
    "ml = BinaryModel(x_train, y_train,  layer_dims = [28, 28, 1], keep_prob=0.75, alpha=0.005, iter_=20000)\n",
    "ml.train()\n",
    "\n",
    "train_pred = ml.get_training_prediction()\n",
    "print ('Training Accuracy: ', (np.mean(y_train[0] == train_pred[0]) ))\n",
    "\n",
    "# test the DNN model on other images not used in the training dataset\n",
    "test_pred = ml.classify(x_test)\n",
    "print ('Testing Accuracy: ', (np.mean(y_test[0] == test_pred[0]) ))\n"
   ]
  }
 ],
 "metadata": {
  "kernelspec": {
   "display_name": "Python 3",
   "language": "python",
   "name": "python3"
  },
  "language_info": {
   "codemirror_mode": {
    "name": "ipython",
    "version": 3
   },
   "file_extension": ".py",
   "mimetype": "text/x-python",
   "name": "python",
   "nbconvert_exporter": "python",
   "pygments_lexer": "ipython3",
   "version": "3.8.8"
  }
 },
 "nbformat": 4,
 "nbformat_minor": 5
}
